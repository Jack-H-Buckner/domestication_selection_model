{
 "cells": [
  {
   "cell_type": "markdown",
   "id": "f9137f62-e178-4a6d-8e95-df5745001f7e",
   "metadata": {},
   "source": [
    "# What should I look for to determine if genetic introgression is causing problems? \n",
    "\n",
    "## Indicators:\n",
    "- Abundance \n",
    "- Natrual recruitment: Hatchery production \n",
    "- prop recruits with hathcery parent \n",
    "- admixture distribution of recruits\n",
    "- Reletive reproductive success \n",
    "\n",
    "## Alternative hyptheses\n",
    "- Hatchery fish don't spawn with natural population\n",
    "- Hatchery fish have equivilent fitness to natural\n",
    "- Hatchery fish are less fit that natrual population \n",
    "\n",
    "## Questsions:\n",
    "- How differnt are the indicators under alterantive scenarios?\n",
    "- How well can those differnces be explained by other factors? (e.g. environemtnal conditions)\n",
    "- How long does it take for indicators to diverge? \n",
    "- What is the best course of action in response to the indicators? \n",
    "\n",
    "# procedure:\n",
    "\n",
    "1. Run simulations of indicators under alternative scenarios using deterministic model in constant environemnt \n",
    "    - idntify dyffernces between scenarion under ideal conditons\n",
    "2. Add environemtnal variability to natrual production \n",
    "    - identify how robust demogaphic metrics are to noise\n",
    "3. Add drift and demographic stochasticity are genetic metrics still robust? \n",
    "4. Use state-space model to identify joint value of multiple metrics \n"
   ]
  },
  {
   "cell_type": "code",
   "execution_count": null,
   "id": "31026fc1-d53d-41d1-8353-7bec3bdfcb20",
   "metadata": {},
   "outputs": [],
   "source": []
  }
 ],
 "metadata": {
  "kernelspec": {
   "display_name": "Julia 1.6.2",
   "language": "julia",
   "name": "julia-1.6"
  },
  "language_info": {
   "file_extension": ".jl",
   "mimetype": "application/julia",
   "name": "julia",
   "version": "1.6.2"
  }
 },
 "nbformat": 4,
 "nbformat_minor": 5
}
