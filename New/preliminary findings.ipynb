{
 "cells": [
  {
   "cell_type": "markdown",
   "id": "aab78e0d-f460-4584-bad9-5db92b2772a4",
   "metadata": {},
   "source": [
    "# Fraser river white sturgeon  "
   ]
  }
 ],
 "metadata": {
  "kernelspec": {
   "display_name": "JuliaPro_v1.5.4-1 1.5.4",
   "language": "julia",
   "name": "juliapro_v1.5.4-1-1.5"
  },
  "language_info": {
   "file_extension": ".jl",
   "mimetype": "application/julia",
   "name": "julia",
   "version": "1.5.4"
  }
 },
 "nbformat": 4,
 "nbformat_minor": 5
}
