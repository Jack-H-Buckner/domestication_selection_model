{
 "cells": [
  {
   "cell_type": "markdown",
   "id": "4635fbf6-ee9f-410e-9f52-63be211a8a8b",
   "metadata": {},
   "source": [
    "# Test agent based simulations"
   ]
  },
  {
   "cell_type": "code",
   "execution_count": 19,
   "id": "ff087158-99aa-4c0b-bbcb-3932d4433eb1",
   "metadata": {},
   "outputs": [
    {
     "name": "stderr",
     "output_type": "stream",
     "text": [
      "WARNING: replacing module AgentBasedSimulations.\n",
      "WARNING: replacing module AgeStructuredModels.\n",
      "WARNING: replacing module DemographicParameters.\n",
      "WARNING: replacing module AgeTraitStructuredModels.\n",
      "WARNING: replacing module StockRecruitCurves.\n"
     ]
    },
    {
     "data": {
      "text/plain": [
       "3.0"
      ]
     },
     "execution_count": 19,
     "metadata": {},
     "output_type": "execute_result"
    }
   ],
   "source": [
    "include(\"AgentBasedSimulations.jl\")\n",
    "include(\"AgeStructuredModels.jl\")\n",
    "include(\"DemographicParameters.jl\")\n",
    "include(\"AgeTraitStructuredModels.jl\")\n",
    "include(\"StockRecruitCurves.jl\")\n",
    "using Plots\n",
    "theme(:wong2)\n",
    "\n",
    "# initialize demographic model - paramters loaded from DemographicParameters.jl \n",
    "# see tests in \"TestDemographicParametersparams.ipynb\"\n",
    "mod = AgeStructuredModels.init(150,DemographicParameters.Smyth_2016_sr,DemographicParameters.Smyth_2016_survival,\n",
    "    DemographicParameters.Smyth_16_F_vec)\n",
    "\n",
    "Rstar = AgeStructuredModels.compute_Rstar(mod)\n",
    "k = 3.0\n",
    "\n",
    "\n",
    "# set base genetic paramters\n",
    "Vle = 1.0\n",
    "θ = 0.0\n",
    "s = 0.1\n",
    "min = -5\n",
    "max = 20 \n",
    "Δz = 0.15\n",
    "\n",
    "# set base paramters for propogated individuals \n",
    "μ_im = 5.0\n",
    "R_im = 0.5 * Rstar  # 50% natrual recrutment \n",
    "\n",
    "# initialize coupled genetic-demogrpahic model \n",
    "pop = AgeTraitStructuredModels.init(mod,Vle, θ, s, min, max, Δz)\n",
    "StockRecruitCurves.update_BevetonHolt_k!(pop.ageStructure.SRCurve, k)\n"
   ]
  },
  {
   "cell_type": "code",
   "execution_count": 20,
   "id": "51a084d1-647a-4d1d-aa9d-d5db756188fa",
   "metadata": {},
   "outputs": [
    {
     "ename": "LoadError",
     "evalue": "UndefVarError: time_step! not defined",
     "output_type": "error",
     "traceback": [
      "UndefVarError: time_step! not defined",
      "",
      "Stacktrace:",
      " [1] top-level scope",
      "   @ ./In[20]:7",
      " [2] eval",
      "   @ ./boot.jl:360 [inlined]",
      " [3] include_string(mapexpr::typeof(REPL.softscope), mod::Module, code::String, filename::String)",
      "   @ Base ./loading.jl:1116"
     ]
    }
   ],
   "source": [
    "pop_ABM = AgentBasedSimulations.init_population(mod,0.1,5.0,2,25)\n",
    "T =5000\n",
    "mu = zeros(T)\n",
    "sigma = zeros(T)\n",
    "SSB = zeros(T)\n",
    "for i in 1:T\n",
    "    AgentBasedSimulations.time_step!(pop_ABM, false)\n",
    "    SSB[i] = AgentBasedSimulations.SSB(pop_ABM)\n",
    "    mu[i], sigma[i] = AgentBasedSimulations.trait_distribution_moments(pop_ABM)\n",
    "end \n",
    "\n",
    "p1 = Plots.plot(mu, legend = false)\n",
    "p2 = Plots.plot(sigma, legend = false)\n",
    "p3 = Plots.plot(SSB, legend = false)\n",
    "\n",
    "plot(p1,p2,p3)"
   ]
  },
  {
   "cell_type": "code",
   "execution_count": null,
   "id": "6d4d5667-13e2-41af-aa0d-621f73a58c4e",
   "metadata": {},
   "outputs": [],
   "source": []
  }
 ],
 "metadata": {
  "kernelspec": {
   "display_name": "Julia (6 threads) 1.6.2",
   "language": "julia",
   "name": "julia-(6-threads)-1.6"
  },
  "language_info": {
   "file_extension": ".jl",
   "mimetype": "application/julia",
   "name": "julia",
   "version": "1.6.2"
  }
 },
 "nbformat": 4,
 "nbformat_minor": 5
}
