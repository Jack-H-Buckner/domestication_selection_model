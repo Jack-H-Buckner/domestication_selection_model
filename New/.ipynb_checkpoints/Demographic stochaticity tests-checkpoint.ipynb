{
 "cells": [
  {
   "cell_type": "markdown",
   "id": "a0a7e8d1-c760-400a-a47d-ea1551a6dbfb",
   "metadata": {},
   "source": [
    "# Test demogrpahic stochasticity model \n",
    "\n",
    "## Effect of seleciton on varince"
   ]
  },
  {
   "cell_type": "code",
   "execution_count": 2,
   "id": "d036c78c-8e3e-4d57-9966-e3075278b2b1",
   "metadata": {},
   "outputs": [
    {
     "ename": "LoadError",
     "evalue": "MethodError: no method matching rand(::Int64, ::Normal{Float64})\n\u001b[0mClosest candidates are:\n\u001b[0m  rand(\u001b[91m::Integer...\u001b[39m) at /Users/julia/buildbot/worker/package_macos64/build/usr/share/julia/stdlib/v1.6/Random/src/Random.jl:277\n\u001b[0m  rand(\u001b[91m::Random.AbstractRNG\u001b[39m, ::Normal{T}) where T at /Users/johnbuckner/.julia/packages/Distributions/Xrm9e/src/univariate/continuous/normal.jl:243\n\u001b[0m  rand(\u001b[91m::Random.AbstractRNG\u001b[39m, ::UnivariateDistribution{S} where S<:ValueSupport) at /Users/johnbuckner/.julia/packages/Distributions/Xrm9e/src/univariates.jl:177\n\u001b[0m  ...",
     "output_type": "error",
     "traceback": [
      "MethodError: no method matching rand(::Int64, ::Normal{Float64})\n\u001b[0mClosest candidates are:\n\u001b[0m  rand(\u001b[91m::Integer...\u001b[39m) at /Users/julia/buildbot/worker/package_macos64/build/usr/share/julia/stdlib/v1.6/Random/src/Random.jl:277\n\u001b[0m  rand(\u001b[91m::Random.AbstractRNG\u001b[39m, ::Normal{T}) where T at /Users/johnbuckner/.julia/packages/Distributions/Xrm9e/src/univariate/continuous/normal.jl:243\n\u001b[0m  rand(\u001b[91m::Random.AbstractRNG\u001b[39m, ::UnivariateDistribution{S} where S<:ValueSupport) at /Users/johnbuckner/.julia/packages/Distributions/Xrm9e/src/univariates.jl:177\n\u001b[0m  ...",
      "",
      "Stacktrace:",
      " [1] top-level scope",
      "   @ ./In[2]:12",
      " [2] eval",
      "   @ ./boot.jl:360 [inlined]",
      " [3] include_string(mapexpr::typeof(REPL.softscope), mod::Module, code::String, filename::String)",
      "   @ Base ./loading.jl:1116"
     ]
    }
   ],
   "source": [
    "using Distributions\n",
    "using Plots\n",
    "N = 100\n",
    "mu = 0.0\n",
    "Vle = 1.0\n",
    "s = 0.05\n",
    "p(x) = exp(-s*x/2.0)\n",
    "d = Distributions.Normal(mu,sqrt(Vle))\n",
    "Nmc = 1000\n",
    "vals = zeros(Nmc)\n",
    "Threads.@threads for i in 1:Nmc\n",
    "    z = rand(N,d)\n",
    "    acc = 0\n",
    "    for j in 1:N\n",
    "        if p(z[j]) > rand(1)[1]\n",
    "            acc+=1\n",
    "        end \n",
    "    end\n",
    "    vals[i] = acc\n",
    "end \n",
    "Plots.histogram(vals)"
   ]
  },
  {
   "cell_type": "code",
   "execution_count": null,
   "id": "26913349-d87b-4dd1-9440-876d81709919",
   "metadata": {},
   "outputs": [],
   "source": [
    "ra"
   ]
  }
 ],
 "metadata": {
  "kernelspec": {
   "display_name": "Julia (12 threads) 1.6.2",
   "language": "julia",
   "name": "julia-(12-threads)-1.6"
  },
  "language_info": {
   "file_extension": ".jl",
   "mimetype": "application/julia",
   "name": "julia",
   "version": "1.6.2"
  }
 },
 "nbformat": 4,
 "nbformat_minor": 5
}
