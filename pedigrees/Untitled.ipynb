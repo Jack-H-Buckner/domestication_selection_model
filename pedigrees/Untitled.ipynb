{
 "cells": [
  {
   "cell_type": "markdown",
   "id": "d66e62ee-7488-4e8b-8ff6-430f0779b3f5",
   "metadata": {},
   "source": [
    "This docusment has some code to experient with how the distribution of pedigrees chagnes over time in a population experincing immigration from a non-locally adapted popualtion and seleciton."
   ]
  },
  {
   "cell_type": "code",
   "execution_count": 29,
   "id": "59765cad-3463-4455-b675-8ff226e1de43",
   "metadata": {},
   "outputs": [
    {
     "name": "stderr",
     "output_type": "stream",
     "text": [
      "┌ Info: Precompiling DataFrames [a93c6f00-e57d-5684-b7b6-d8193f3e46c0]\n",
      "└ @ Base loading.jl:1278\n",
      "┌ Info: Precompiling CSV [336ed68f-0bac-5ca0-87d4-7b16caf5d00b]\n",
      "└ @ Base loading.jl:1278\n"
     ]
    }
   ],
   "source": [
    "using Distributions \n",
    "using Plots\n",
    "using DataFrames\n",
    "using CSV"
   ]
  },
  {
   "cell_type": "code",
   "execution_count": 2,
   "id": "4fad1f0c-3465-45e0-b327-025fa599fb0a",
   "metadata": {},
   "outputs": [
    {
     "data": {
      "text/plain": [
       "init_population (generic function with 1 method)"
      ]
     },
     "execution_count": 2,
     "metadata": {},
     "output_type": "execute_result"
    }
   ],
   "source": [
    "struct individual\n",
    "    g::Float64\n",
    "    p::Float64\n",
    "    t_macro\n",
    "    t_refined\n",
    "end \n",
    "\n",
    "mutable struct population\n",
    "    d\n",
    "    list::AbstractVector{individual}\n",
    "end \n",
    "\n",
    "function init_population(N,Vle,s)\n",
    "    d = Distributions.Normal(0,Vle/2)\n",
    "    g = rand(d,N)\n",
    "    p = zeros(N)\n",
    "    list = []\n",
    "    for i in 1:N\n",
    "        list = vcat(list,individual(g[i],p[i], \"W\", \"WW\"))\n",
    "    end \n",
    "    return population(d,list)\n",
    "end \n"
   ]
  },
  {
   "cell_type": "code",
   "execution_count": 73,
   "id": "5e45bad2-39bd-4965-8dc0-380370dbc6cd",
   "metadata": {},
   "outputs": [
    {
     "data": {
      "text/plain": [
       "data (generic function with 1 method)"
      ]
     },
     "execution_count": 73,
     "metadata": {},
     "output_type": "execute_result"
    }
   ],
   "source": [
    "function micro_to_macro(state)\n",
    "    if state == \"H1H1\"\n",
    "        return \"H\" \n",
    "    elseif occursin(\"H1\", state)\n",
    "        return \"F1\"\n",
    "    else\n",
    "        return \"W\"\n",
    "    end \n",
    "end \n",
    "\n",
    "function reduce_to_micro(state)\n",
    "    if state == \"WH1\"\n",
    "        return \"H1W\" \n",
    "    elseif state == \"WF1\"\n",
    "        return \"F1W\"\n",
    "    elseif state == \"HF1\"\n",
    "        return \"F1H\"\n",
    "    elseif state == \"HW\"\n",
    "        return \"WH\"\n",
    "    elseif state == \"HH1\"\n",
    "        return \"H1H\"\n",
    "    elseif state == \"F1H1\"\n",
    "        return \"H1F1\"\n",
    "    else\n",
    "        return state\n",
    "    end \n",
    "end \n",
    "\n",
    "function reproduce(population)\n",
    "    pair = rand(population.list,2)\n",
    "    g = 0.5*pair[1].g + 0.5*pair[2].g + rand(population.d,1)[1]\n",
    "    p = 0.5*pair[1].p+0.5*pair[2].p\n",
    "    t_micro = reduce_to_micro(pair[1].t_macro * pair[2].t_macro)\n",
    "    t_macro = micro_to_macro(t_micro)\n",
    "    ind = individual(g,p,t_macro,t_micro)\n",
    "    return ind\n",
    "end \n",
    "\n",
    "\n",
    "function reproduce!(population,N)\n",
    "    list = []\n",
    "    for i in 1:N\n",
    "        list = vcat(list,reproduce(population))\n",
    "    end \n",
    "    population.list = list\n",
    "    return population\n",
    "end \n",
    "\n",
    "function selection!(population,s)\n",
    "    p= zeros(length(population.list))\n",
    "    w= zeros(length(population.list))\n",
    "    i = 0\n",
    "    for ind in population.list\n",
    "        i += 1\n",
    "        p[i] = rand()[1]\n",
    "        w[i] = exp(-s/2*ind.g^2)\n",
    "    end \n",
    "    population.list = population.list[p.<w]\n",
    "    return population\n",
    "end\n",
    "\n",
    "function immigration!(population,M,g_im)\n",
    "    g = rand(population.d,M) .+ g_im\n",
    "    p = ones(M)\n",
    "\n",
    "    list = []\n",
    "    for i in 1:M\n",
    "        list = vcat(list,individual(g[i],p[i], \"H1\", \"H1\"))\n",
    "    end \n",
    "    population.list = vcat(population.list,list)\n",
    "    return population\n",
    "end\n",
    "        \n",
    "function distributions(population)\n",
    "            \n",
    "    N = length(population.list)\n",
    "    g = zeros(N)\n",
    "    p = zeros(N)\n",
    "\n",
    "    for i in 1:N\n",
    "        ind = population.list[i]\n",
    "        g[i] = ind.g\n",
    "        p[i] = ind.p\n",
    "    end \n",
    "    return g,p\n",
    "end\n",
    "        \n",
    "function data(population, path)\n",
    "    N = length(population.list)\n",
    "    g = zeros(N)\n",
    "    p = zeros(N)\n",
    "    t_micro = []\n",
    "    t_macro = []\n",
    "    for i in 1:N\n",
    "        ind = population.list[i]\n",
    "        g[i] = ind.g\n",
    "        p[i] = ind.p\n",
    "        t_micro = vcat(t_micro,ind.t_refined)\n",
    "        t_macro = vcat(t_macro,\"a\"*ind.t_macro)\n",
    "    end \n",
    "    df = DataFrames.DataFrame(g_=g, p_=p, \n",
    "            micro_=t_micro, macro_=t_macro)\n",
    "   CSV.write(path, df)\n",
    "end "
   ]
  },
  {
   "cell_type": "code",
   "execution_count": 119,
   "id": "2eb7c02f-7930-4c12-ab58-ac0b70102ee8",
   "metadata": {},
   "outputs": [],
   "source": [
    "M = 2000\n",
    "N = 10000\n",
    "T  =4\n",
    "g_im = 5\n",
    "Vle = 1.0\n",
    "s = 0.1\n",
    "bins = 100\n",
    "pop = init_population(N,Vle,s)\n",
    "# p,g = distributions(pop)\n",
    "# p1 = Plots.histogram(g, alpha = 0.25)\n",
    "# p2 = Plots.histogram(p, alpha = 0.25)\n",
    "# for i in 1:T\n",
    "#     M = rand(1:500,1)[1]\n",
    "#     immigration!(pop,M,g_im)\n",
    "#     reproduce!(pop,N)\n",
    "#     selection!(pop,s)\n",
    "    \n",
    "# #     if i  ==0\n",
    "# #         p,g = distributions(pop)\n",
    "# #         p1 = Plots.histogram!(p1,g, alpha = 0.25)\n",
    "# #         p2 = Plots.histogram!(p2,p, alpha = 0.25)\n",
    "# #     end \n",
    "# end \n",
    "# p,g = distributions(pop)\n",
    "# p1 = Plots.histogram(g, alpha = 0.25,nbins = bins)\n",
    "# p2 = Plots.histogram(p, alpha = 0.25,nbins = bins)\n",
    "\n",
    "\n",
    "\n",
    "g_im = 7\n",
    "\n",
    "pop = init_population(N,Vle,s)\n",
    "# p,g = distributions(pop)\n",
    "# p1 = Plots.histogram(g, alpha = 0.25)\n",
    "# p2 = Plots.histogram(p, alpha = 0.25)\n",
    "for i in 1:T\n",
    "    immigration!(pop,M,g_im)\n",
    "    reproduce!(pop,N)\n",
    "    selection!(pop,s)\n",
    "    \n",
    "#     if i  ==0\n",
    "#         p,g = distributions(pop)\n",
    "#         p1 = Plots.histogram!(p1,g, alpha = 0.25)\n",
    "#         p2 = Plots.histogram!(p2,p, alpha = 0.25)\n",
    "#     end \n",
    "end \n",
    "# p,g = distributions(pop)\n",
    "# p1 = Plots.histogram!(p1,g, alpha = 0.25, nbins = bins)\n",
    "# p2 = Plots.histogram!(p2,p, alpha = 0.25,nbins = bins)\n",
    "# plot(p1,p2)"
   ]
  },
  {
   "cell_type": "code",
   "execution_count": 120,
   "id": "abd88090-9815-4f87-b9fb-81dbf8742ad6",
   "metadata": {},
   "outputs": [
    {
     "data": {
      "text/plain": [
       "\"pop_data.csv\""
      ]
     },
     "execution_count": 120,
     "metadata": {},
     "output_type": "execute_result"
    }
   ],
   "source": [
    "data(pop, \"pop_data.csv\")"
   ]
  },
  {
   "cell_type": "code",
   "execution_count": 199,
   "id": "198ab33a-bdf2-4a8c-af4c-da12d0286dd7",
   "metadata": {},
   "outputs": [
    {
     "data": {
      "text/plain": [
       "true"
      ]
     },
     "execution_count": 199,
     "metadata": {},
     "output_type": "execute_result"
    }
   ],
   "source": [
    "occursin(\"H1\", \"H1W\")\n"
   ]
  },
  {
   "cell_type": "code",
   "execution_count": null,
   "id": "d616421c-04b7-48af-8ec3-f45ace3d205c",
   "metadata": {},
   "outputs": [],
   "source": []
  }
 ],
 "metadata": {
  "kernelspec": {
   "display_name": "JuliaPro_v1.5.4-1 1.5.4",
   "language": "julia",
   "name": "juliapro_v1.5.4-1-1.5"
  },
  "language_info": {
   "file_extension": ".jl",
   "mimetype": "application/julia",
   "name": "julia",
   "version": "1.5.4"
  }
 },
 "nbformat": 4,
 "nbformat_minor": 5
}
