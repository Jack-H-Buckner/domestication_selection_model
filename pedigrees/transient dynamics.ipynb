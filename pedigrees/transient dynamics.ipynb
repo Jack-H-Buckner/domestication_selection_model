{
 "cells": [
  {
   "cell_type": "raw",
   "id": "7dc11211-18ae-463e-8f1f-2147f6d4664b",
   "metadata": {},
   "source": []
  },
  {
   "cell_type": "markdown",
   "id": "c487e8dd-543b-482d-a0d9-bae414a5a995",
   "metadata": {},
   "source": [
    "# Transient dynamics "
   ]
  },
  {
   "cell_type": "code",
   "execution_count": null,
   "id": "91c4a24f-5e9d-4983-a9df-b2c264c56b34",
   "metadata": {},
   "outputs": [
    {
     "name": "stderr",
     "output_type": "stream",
     "text": [
      "WARNING: replacing module age_structure_model.\n",
      "WARNING: replacing module fecundity_at_age.\n",
      "┌ Info: Precompiling DSP [717857b8-e6f2-59f4-9121-6e50c889abd2]\n",
      "└ @ Base loading.jl:1278\n"
     ]
    }
   ],
   "source": [
    "include(\"../age_structure/age_structure_model.jl\")\n",
    "include(\"../age_structure/fecundity_at_age.jl\")\n",
    "include(\"i_state_dsn_pedigree_triat.jl\")\n",
    "using LinearAlgebra\n",
    "using Plots\n",
    "using Roots\n",
    "using Distributions"
   ]
  },
  {
   "cell_type": "code",
   "execution_count": null,
   "id": "241ee1b5-93af-4af3-841f-74d8ac839882",
   "metadata": {},
   "outputs": [],
   "source": [
    "# single paramters \n",
    "A_max = 100 # max age\n",
    "A_mature = 0 # age at maturity \n",
    "f_infty = 10.0^6 # maximum fecundity \n",
    "k = 0.1 # growth rate \n",
    "a0 = 10.0 # growth paramter\n",
    "s = 0.95 # survival rate\n",
    "\n",
    "\n",
    "# vectorized paramters\n",
    "fecundity = broadcast(x -> fecundity_at_age.isometric_LVB(x,f_infty,k,a0), 1:A_max)\n",
    "survival = repeat([s],A_max)\n",
    "\n",
    "A = age_structure_model.build_age_matrix(A_max,fecundity,survival)\n",
    "print(\" \")"
   ]
  }
 ],
 "metadata": {
  "kernelspec": {
   "display_name": "JuliaPro_v1.5.4-1 1.5.4",
   "language": "julia",
   "name": "juliapro_v1.5.4-1-1.5"
  },
  "language_info": {
   "file_extension": ".jl",
   "mimetype": "application/julia",
   "name": "julia",
   "version": "1.5.4"
  }
 },
 "nbformat": 4,
 "nbformat_minor": 5
}
