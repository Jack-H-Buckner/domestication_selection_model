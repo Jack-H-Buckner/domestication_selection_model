{
 "cells": [
  {
   "cell_type": "code",
   "execution_count": 1,
   "id": "732c8d76-aff8-4482-8189-0dde0a753fab",
   "metadata": {},
   "outputs": [
    {
     "data": {
      "text/plain": [
       "Main.one_populaiton_ricker"
      ]
     },
     "execution_count": 1,
     "metadata": {},
     "output_type": "execute_result"
    }
   ],
   "source": [
    "include(\"one_population_ricker.jl\")"
   ]
  },
  {
   "cell_type": "code",
   "execution_count": 2,
   "id": "5e1d3bae-4e30-4f44-a8cb-565cf4406156",
   "metadata": {},
   "outputs": [],
   "source": [
    "using CSV\n",
    "using DataFrames\n",
    "using Plots"
   ]
  },
  {
   "cell_type": "code",
   "execution_count": 3,
   "id": "a8e79f30-2b8b-423c-b853-86e7f4f9a416",
   "metadata": {},
   "outputs": [],
   "source": [
    "r_range = [0.05,0.5]\n",
    "K_range = [0.5,2]\n",
    "s_range = [0.0,1.5]\n",
    "z1_range = [0.0,6.0]\n",
    "m_range = [0.0,0.5]\n",
    "N = 100000\n",
    "\n",
    "r_ls = zeros(N)\n",
    "K_ls = zeros(N)\n",
    "s_ls = zeros(N)\n",
    "z1_ls = zeros(N)\n",
    "m_ls = zeros(N)\n",
    "eq1_ls = zeros(N)\n",
    "eq2_ls = zeros(N)\n",
    "\n",
    "for i in 1:N\n",
    "    r = rand(1)[1]*(r_range[2] - r_range[1]) + r_range[1]\n",
    "    K = rand(1)[1]*(K_range[2] - K_range[1]) + K_range[1]\n",
    "    s = rand(1)[1]*(s_range[2] - s_range[1]) + s_range[1]\n",
    "    z1 = rand(1)[1]*(z1_range[2] - z1_range[1]) + z1_range[1]\n",
    "    m = rand(1)[1]*(m_range[2]-m_range[1]) + m_range[1]\n",
    "    N0 = K\n",
    "    z0 = 0.0\n",
    "    model = one_populaiton_ricker.population(N0,z0,r,K,s,z1)\n",
    "    eq1 = one_populaiton_ricker.equilibrium_population_fpi(model,m)\n",
    "    \n",
    "    N0 = 0.025*K\n",
    "    z0 = z1\n",
    "    model = one_populaiton_ricker.population(N0,z0,r,K,s,z1)\n",
    "    eq2 = one_populaiton_ricker.equilibrium_population_fpi(model,m)\n",
    "    \n",
    "    r_ls[i] = r\n",
    "    K_ls[i] = K\n",
    "    s_ls[i] = s\n",
    "    z1_ls[i] = z1\n",
    "    m_ls[i] = m\n",
    "    eq1_ls[i] = eq1.N\n",
    "    eq2_ls[i] = eq2.N\n",
    "end \n",
    "\n"
   ]
  },
  {
   "cell_type": "code",
   "execution_count": 4,
   "id": "7db5f9ce-9cdf-4a48-ac41-6591feaad81d",
   "metadata": {},
   "outputs": [
    {
     "data": {
      "text/plain": [
       "\"outputs/ricker_GSA.csv\""
      ]
     },
     "execution_count": 4,
     "metadata": {},
     "output_type": "execute_result"
    }
   ],
   "source": [
    "df = DataFrame(r = r_ls, K = K_ls, s = s_ls, z1 = z1_ls, m = m_ls, eq1 = eq1_ls,eq2 = eq2_ls)\n",
    "CSV.write(\"outputs/ricker_GSA.csv\", df)"
   ]
  },
  {
   "cell_type": "code",
   "execution_count": 95,
   "id": "807cfaaa-50fe-469d-9602-cd1edfbe3fc4",
   "metadata": {},
   "outputs": [],
   "source": [
    "m = 0.00:0.001:0.2\n",
    "\n",
    "\n",
    "\n",
    "r = 0.1\n",
    "K = 1.0\n",
    "s = 0.1\n",
    "z1 = 2.5\n",
    "\n",
    "N0 = K\n",
    "Z0 = 0\n",
    "N_ls = zeros(length(m))\n",
    "z_ls = zeros(length(m))\n",
    "model = one_populaiton_ricker.population(N0,z0,r,K,s,z1)\n",
    "for i in 1:length(m)\n",
    "\n",
    "    eq1 = one_populaiton_ricker.equilibrium_population_fpi(model,m[i])\n",
    "    \n",
    "    N_ls[i] = eq1.N \n",
    "    z_ls[i] = eq1.z\n",
    "end \n",
    "\n",
    "\n",
    "\n",
    "p1 = Plots.plot(m,N_ls, color = \"black\", label = \"scenario 1\")\n",
    "\n",
    "\n",
    "r = 0.1\n",
    "K = 1.0\n",
    "s = 0.1\n",
    "z1 = 2.825\n",
    "\n",
    "N0 = K\n",
    "Z0 = 0\n",
    "N_ls = zeros(length(m))\n",
    "z_ls = zeros(length(m))\n",
    "model = one_populaiton_ricker.population(N0,z0,r,K,s,z1)\n",
    "for i in 1:length(m)\n",
    "\n",
    "    eq1 = one_populaiton_ricker.equilibrium_population_fpi(model,m[i])\n",
    "    \n",
    "    N_ls[i] = eq1.N \n",
    "    z_ls[i] = eq1.z\n",
    "end \n",
    "\n",
    "\n",
    "\n",
    "Plots.plot!(m,N_ls, color = \"black\", linestyle =:dash, label = \"scenario 2\")\n",
    "\n",
    "\n",
    "r = 0.1\n",
    "K = 1.0\n",
    "s = 0.1\n",
    "z1 = 3\n",
    "\n",
    "N0 = K\n",
    "Z0 = 0\n",
    "N_ls = zeros(length(m))\n",
    "z_ls = zeros(length(m))\n",
    "model = one_populaiton_ricker.population(N0,z0,r,K,s,z1)\n",
    "for i in 1:length(m)\n",
    "\n",
    "    eq1 = one_populaiton_ricker.equilibrium_population_fpi(model,m[i])\n",
    "    \n",
    "    N_ls[i] = eq1.N \n",
    "    z_ls[i] = eq1.z\n",
    "end \n",
    "\n",
    "Plots.plot!(m,N_ls, color = \"black\", label = \"scenario 3\", linestyle =:dot)\n",
    "\n",
    "\n",
    "\n",
    "r = 0.1\n",
    "K = 1.0\n",
    "s = 0.1\n",
    "z1 = 4\n",
    "\n",
    "N0 = K\n",
    "Z0 = 0\n",
    "N_ls = zeros(length(m))\n",
    "z_ls = zeros(length(m))\n",
    "model = one_populaiton_ricker.population(N0,z0,r,K,s,z1)\n",
    "for i in 1:length(m)\n",
    "\n",
    "    eq1 = one_populaiton_ricker.equilibrium_population_fpi(model,m[i])\n",
    "    \n",
    "    N_ls[i] = eq1.N \n",
    "    z_ls[i] = eq1.z\n",
    "end \n",
    "\n",
    "Plots.plot!(m,N_ls, color = \"black\", label = \"scenario 4\", linestyle =:dashdot)\n",
    "\n",
    "Plots.plot!(m,m.+1, color = \"red\", label = \"K+m\")\n",
    "Plots.plot!(m, ones(length(m)), color = \"blue\",  label = \"K\", \n",
    "legend = :right, xlabel = \"m\", ylabel = \"N_eq\")\n",
    "\n",
    "savefig(\"../figs/N_eq_m.png\")\n"
   ]
  },
  {
   "cell_type": "code",
   "execution_count": null,
   "id": "f5371605-e68c-4809-a2e3-061fedd65c93",
   "metadata": {},
   "outputs": [],
   "source": []
  },
  {
   "cell_type": "code",
   "execution_count": null,
   "id": "ec69663e-a65f-4f61-9d30-0292b6afe4b8",
   "metadata": {},
   "outputs": [],
   "source": []
  }
 ],
 "metadata": {
  "kernelspec": {
   "display_name": "Julia 1.5.3",
   "language": "julia",
   "name": "julia-1.5"
  },
  "language_info": {
   "file_extension": ".jl",
   "mimetype": "application/julia",
   "name": "julia",
   "version": "1.5.3"
  }
 },
 "nbformat": 4,
 "nbformat_minor": 5
}
