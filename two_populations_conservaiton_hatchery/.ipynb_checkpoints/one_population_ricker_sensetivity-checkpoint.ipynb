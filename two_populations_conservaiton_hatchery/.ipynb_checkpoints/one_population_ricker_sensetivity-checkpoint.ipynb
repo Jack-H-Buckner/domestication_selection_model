{
 "cells": [
  {
   "cell_type": "code",
   "execution_count": 40,
   "id": "732c8d76-aff8-4482-8189-0dde0a753fab",
   "metadata": {},
   "outputs": [
    {
     "name": "stderr",
     "output_type": "stream",
     "text": [
      "WARNING: replacing module one_populaiton_ricker.\n"
     ]
    },
    {
     "data": {
      "text/plain": [
       "Main.one_populaiton_ricker"
      ]
     },
     "execution_count": 40,
     "metadata": {},
     "output_type": "execute_result"
    }
   ],
   "source": [
    "include(\"one_population_ricker.jl\")"
   ]
  },
  {
   "cell_type": "code",
   "execution_count": 41,
   "id": "5e1d3bae-4e30-4f44-a8cb-565cf4406156",
   "metadata": {},
   "outputs": [],
   "source": [
    "using CSV\n",
    "using DataFrames"
   ]
  },
  {
   "cell_type": "code",
   "execution_count": 38,
   "id": "a8e79f30-2b8b-423c-b853-86e7f4f9a416",
   "metadata": {},
   "outputs": [],
   "source": [
    "r_range = [0.05,0.5]\n",
    "K_range = [0.5,2]\n",
    "s_range = [0.0,1.0]\n",
    "z1_range = [0.0,5.0]\n",
    "m_range = [0.0,0.1]\n",
    "N = 150000\n",
    "\n",
    "r_ls = zeros(N)\n",
    "K_ls = zeros(N)\n",
    "s_ls = zeros(N)\n",
    "z1_ls = zeros(N)\n",
    "m_ls = zeros(N)\n",
    "eq1_ls = zeros(N)\n",
    "eq2_ls = zeros(N)\n",
    "\n",
    "for i in 1:N\n",
    "    r = rand(1)[1]*(r_range[2] - r_range[1]) + r_range[1]\n",
    "    K = rand(1)[1]*(K_range[2] - K_range[1]) + K_range[1]\n",
    "    s = rand(1)[1]*(s_range[2] - s_range[1]) + s_range[1]\n",
    "    z1 = rand(1)[1]*(z1_range[2] - z1_range[1]) + z1_range[1]\n",
    "    m = rand(1)[1]*(m_range[2]-m_range[1]) + m_range[1]\n",
    "    N0 = K\n",
    "    z0 = 0.0\n",
    "    model = one_populaiton_ricker.population(N0,z0,r,K,s,z1)\n",
    "    eq1 = one_populaiton_ricker.equilibrium_population_fpi(model,m)\n",
    "    \n",
    "    N0 = 0.025*K\n",
    "    z0 = z1\n",
    "    model = one_populaiton_ricker.population(N0,z0,r,K,s,z1)\n",
    "    eq2 = one_populaiton_ricker.equilibrium_population_fpi(model,m)\n",
    "    \n",
    "    r_ls[i] = r\n",
    "    K_ls[i] = K\n",
    "    s_ls[i] = s\n",
    "    z1_ls[i] = z1\n",
    "    m_ls[i] = m\n",
    "    eq1_ls[i] = eq1.N\n",
    "    eq2_ls[i] = eq2.N\n",
    "end \n",
    "\n"
   ]
  },
  {
   "cell_type": "code",
   "execution_count": 39,
   "id": "7db5f9ce-9cdf-4a48-ac41-6591feaad81d",
   "metadata": {},
   "outputs": [
    {
     "data": {
      "text/plain": [
       "\"outputs/ricker_GSA.csv\""
      ]
     },
     "execution_count": 39,
     "metadata": {},
     "output_type": "execute_result"
    }
   ],
   "source": [
    "df = DataFrame(r = r_ls, K = K_ls, s = s_ls, z1 = z1_ls, m = m_ls, eq1 = eq1_ls,eq2 = eq2_ls)\n",
    "CSV.write(\"outputs/ricker_GSA.csv\", df)"
   ]
  },
  {
   "cell_type": "code",
   "execution_count": 34,
   "id": "807cfaaa-50fe-469d-9602-cd1edfbe3fc4",
   "metadata": {},
   "outputs": [
    {
     "data": {
      "text/plain": [
       "10000-element Array{Float64,1}:\n",
       " 1.4791989563112748\n",
       " 1.7949775379788617\n",
       " 0.7202584750481499\n",
       " 0.9326519037353197\n",
       " 0.7517207261940433\n",
       " 1.060370216773428\n",
       " 2.122898503049125\n",
       " 0.9005365574673583\n",
       " 1.6424384666083767\n",
       " 0.6600874963301973\n",
       " 2.193353276490308\n",
       " 1.5037377263219884\n",
       " 1.2415676230429304\n",
       " ⋮\n",
       " 1.0019106504846564\n",
       " 2.0564269424390424\n",
       " 2.1326219721074304\n",
       " 0.8150442507084603\n",
       " 1.767922859901123\n",
       " 0.8086384356040675\n",
       " 1.2394439107719704\n",
       " 1.01574706105511\n",
       " 1.5192829623717374\n",
       " 1.593753799109969\n",
       " 1.1893631127652302\n",
       " 0.9708526122215522"
      ]
     },
     "execution_count": 34,
     "metadata": {},
     "output_type": "execute_result"
    }
   ],
   "source": []
  },
  {
   "cell_type": "code",
   "execution_count": null,
   "id": "f5371605-e68c-4809-a2e3-061fedd65c93",
   "metadata": {},
   "outputs": [],
   "source": []
  }
 ],
 "metadata": {
  "kernelspec": {
   "display_name": "Julia 1.5.3",
   "language": "julia",
   "name": "julia-1.5"
  },
  "language_info": {
   "file_extension": ".jl",
   "mimetype": "application/julia",
   "name": "julia",
   "version": "1.5.3"
  }
 },
 "nbformat": 4,
 "nbformat_minor": 5
}
