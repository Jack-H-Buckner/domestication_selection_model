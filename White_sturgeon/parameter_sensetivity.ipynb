{
 "cells": [
  {
   "cell_type": "markdown",
   "id": "5774f808-f09b-4bc3-a134-9eaa285534ed",
   "metadata": {},
   "source": [
    "# Parameter sensetivity "
   ]
  },
  {
   "cell_type": "code",
   "execution_count": 1,
   "id": "4f0a6c26-922c-429d-8787-88f38b1a00d1",
   "metadata": {},
   "outputs": [
    {
     "name": "stderr",
     "output_type": "stream",
     "text": [
      "┌ Info: Precompiling CSV [336ed68f-0bac-5ca0-87d4-7b16caf5d00b]\n",
      "└ @ Base loading.jl:1278\n",
      "┌ Info: Precompiling Plots [91a5bcdd-55d7-5caf-9e0b-520d859cae80]\n",
      "└ @ Base loading.jl:1278\n",
      "┌ Info: Precompiling DSP [717857b8-e6f2-59f4-9121-6e50c889abd2]\n",
      "└ @ Base loading.jl:1278\n"
     ]
    },
    {
     "data": {
      "text/plain": [
       "Main.demo_params"
      ]
     },
     "execution_count": 1,
     "metadata": {},
     "output_type": "execute_result"
    }
   ],
   "source": [
    "using CSV, Tables\n",
    "using Plots\n",
    "include(\"simulations.jl\")\n",
    "include(\"demo_params.jl\")"
   ]
  },
  {
   "cell_type": "code",
   "execution_count": 2,
   "id": "e4b52079-45fc-4bdd-8068-2f4d98fbdea4",
   "metadata": {},
   "outputs": [
    {
     "ename": "LoadError",
     "evalue": "\u001b[91mUndefVarError: sample not defined\u001b[39m",
     "output_type": "error",
     "traceback": [
      "\u001b[91mUndefVarError: sample not defined\u001b[39m",
      "",
      "Stacktrace:",
      " [1] top-level scope at ./In[2]:10",
      " [2] include_string(::Function, ::Module, ::String, ::String) at ./loading.jl:1091"
     ]
    }
   ],
   "source": [
    "duration = [0.1,0.25,0.5,1.0,2.0,4.0]\n",
    "R_H = [0.1,0.25,0.5,1.0,2.0].* demo_params.Smyth_16_R_star\n",
    "s = [0.05,0.1,0.2,0.4]\n",
    "RRS = [0.25,0.5,0.75,0.9]\n",
    "k_ind = 1:5\n",
    "N_after = 20\n",
    "N_trials = 2000\n",
    "data = zeros(N_trials,9)\n",
    "for i in 1:N_trials\n",
    "    duration_ = sample(duration,1)[1]\n",
    "    R_H_ = sample(R_H,1)[1]\n",
    "    s_ = sample(s,1)[1]\n",
    "    RRS_ = sample(RRS,1)[1]\n",
    "    k_ind_ = sample(k_ind,1)[1]\n",
    "\n",
    "    W, E_, R_im, T_ = simulations.simulation_DSI(R_H_, duration_, N_after, s_, RRS_, k_ind_)\n",
    "    min_fittness, min_abundance, T_min_abundnace, integrated_fitness = simulations.quantities(W,E_,R_im, T_)\n",
    "    data[i,:] = [R_H_, duration_, s_, RRS_, k_ind_, min_fittness,min_abundance,T_min_abundnace,integrated_fitness]\n",
    "end \n",
    "CSV.write(\"model_output/DSI_param_sensetivity.csv\",  Tables.table(data), writeheader=false)"
   ]
  },
  {
   "cell_type": "code",
   "execution_count": 7,
   "id": "6fa75bc4-3bf2-4126-adfd-6e27eced11f8",
   "metadata": {},
   "outputs": [
    {
     "data": {
      "text/plain": [
       "2"
      ]
     },
     "execution_count": 7,
     "metadata": {},
     "output_type": "execute_result"
    }
   ],
   "source": [
    "using StatsBase\n",
    "sample([1,2,3],1)"
   ]
  },
  {
   "cell_type": "code",
   "execution_count": null,
   "id": "d94a3da2-4e0c-4aca-9c25-cc579dda88fc",
   "metadata": {},
   "outputs": [],
   "source": []
  }
 ],
 "metadata": {
  "kernelspec": {
   "display_name": "JuliaPro_v1.5.4-1 1.5.4",
   "language": "julia",
   "name": "juliapro_v1.5.4-1-1.5"
  },
  "language_info": {
   "file_extension": ".jl",
   "mimetype": "application/julia",
   "name": "julia",
   "version": "1.5.4"
  }
 },
 "nbformat": 4,
 "nbformat_minor": 5
}
